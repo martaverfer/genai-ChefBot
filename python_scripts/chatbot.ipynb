{
 "cells": [
  {
   "cell_type": "code",
   "execution_count": 1,
   "metadata": {},
   "outputs": [],
   "source": [
    "# System libraries\n",
    "import os\n",
    "import chromadb\n",
    "import openai\n",
    "\n",
    "# GenAI\n",
    "from langchain.document_loaders import PyPDFLoader \n",
    "from langchain_openai import OpenAIEmbeddings\n",
    "from langchain_text_splitters import RecursiveCharacterTextSplitter\n",
    "from langchain.vectorstores import Chroma\n",
    "from dotenv import load_dotenv"
   ]
  },
  {
   "cell_type": "code",
   "execution_count": 2,
   "metadata": {},
   "outputs": [],
   "source": [
    "# const\n",
    "CHROMA_PATH = \"../chroma\"\n",
    "DATA_PATH = \"../data/Student-Cookbook.pdf\""
   ]
  },
  {
   "cell_type": "code",
   "execution_count": 3,
   "metadata": {},
   "outputs": [
    {
     "name": "stderr",
     "output_type": "stream",
     "text": [
      "Ignoring wrong pointing object 19 0 (offset 0)\n",
      "Ignoring wrong pointing object 28 0 (offset 0)\n",
      "Ignoring wrong pointing object 46 0 (offset 0)\n",
      "Ignoring wrong pointing object 53 0 (offset 0)\n",
      "Ignoring wrong pointing object 91 0 (offset 0)\n",
      "Ignoring wrong pointing object 169 0 (offset 0)\n"
     ]
    }
   ],
   "source": [
    "# Load document\n",
    "loader = PyPDFLoader(DATA_PATH)\n",
    "documents= loader.load()"
   ]
  },
  {
   "cell_type": "code",
   "execution_count": 4,
   "metadata": {},
   "outputs": [],
   "source": [
    "# Chunks\n",
    "text_splitter = RecursiveCharacterTextSplitter(\n",
    "    chunk_size = 1000,\n",
    "    chunk_overlap = 200,\n",
    "    length_function =len,\n",
    "    is_separator_regex=False,\n",
    ")\n",
    "chunks = text_splitter.split_documents(documents)"
   ]
  },
  {
   "cell_type": "code",
   "execution_count": 5,
   "metadata": {},
   "outputs": [],
   "source": [
    "load_dotenv()\n",
    "api_key = os.getenv(\"OPENAI_API_KEY\") \n",
    "openai.api_key = api_key"
   ]
  },
  {
   "cell_type": "code",
   "execution_count": 6,
   "metadata": {},
   "outputs": [],
   "source": [
    "embeddings = OpenAIEmbeddings(model=\"text-embedding-3-large\")"
   ]
  },
  {
   "cell_type": "code",
   "execution_count": 7,
   "metadata": {},
   "outputs": [],
   "source": [
    "persist_directory = \"../chroma_db\"\n",
    "\n",
    "db = Chroma.from_documents(chunks, embeddings, persist_directory=persist_directory)\n"
   ]
  },
  {
   "cell_type": "code",
   "execution_count": 8,
   "metadata": {},
   "outputs": [],
   "source": [
    "user_question = \"I need a quick lunch recipe\" # User question\n",
    "retrieved_docs = db.similarity_search(user_question, k=10) # k is the number of documents to retrieve"
   ]
  },
  {
   "cell_type": "code",
   "execution_count": 9,
   "metadata": {},
   "outputs": [
    {
     "name": "stdout",
     "output_type": "stream",
     "text": [
      "Document 1:\n",
      "\n",
      "Document 2:\n",
      " are a great lunch staple and are very simple and easy to make. Getting bored of \n",
      "plain old peanut butter and jelly? Here are some ideas from USU dietetic students to try to spice \n",
      "up your everyday sandwiches. \n",
      " \n",
      "Breads: \n",
      "Bread \n",
      "Tortilla \n",
      "Pita bread \n",
      "Naan bread (or other flat bread) \n",
      "Roll \n",
      "Bun \n",
      "French bread or other artisan breads \n",
      "English muffins \n",
      "Ciabatta  \n",
      " \n",
      "Spread: \n",
      "Fancy mustard \n",
      "Hummus \n",
      "Pesto \n",
      "Cream cheese (plain or herbed) \n",
      "Mayonnaise (plain or flavored) \n",
      "Ranch or other salad dressings \n",
      "Salsa \n",
      "Guacamole \n",
      "Mashed beans \n",
      " \n",
      "Protein: \n",
      "Deli meat \n",
      "Grilled chicken \n",
      "Cooked egg \n",
      "Sausage \n",
      "Roasted turkey or other meat \n",
      "Tuna \n",
      "Cheese \n",
      "Beans \n",
      "Tofu \n",
      "Veggie Burgers \n",
      "Egg salad (or chicken salad) \n",
      "Lentils \n",
      " \n",
      "Vegetables: \n",
      "Lettuce \n",
      "Spinach\n",
      "Document 3:\n",
      "ches \n",
      "The cook time for this recipe is just 30 minutes, but it does take some time to prepare the dough. \n",
      "All you have to do is leave it out all day to rise and when you come home from class to make \n",
      "dinner, your dough is ready to go! \n",
      " \n",
      "1 Rhodes “Bake n Serve” loaf of bread \n",
      "Deli ham \n",
      "Mozzarella cheese \n",
      " \n",
      "1. Let dough sit out all day to rise.  \n",
      "2. Roll out and put ham and cheese out in one layer alternating.  \n",
      "3. Bake at 350° for 20-25 minutes. \n",
      " \n",
      " \n",
      " \n",
      "Tuna Casserole \n",
      " \n",
      "Noodles of choice, cooked al dente and drained \n",
      "1 can cream of chicken or mushroom \n",
      "1 can tuna, drained \n",
      "Milk, start with ½ of soup can \n",
      "Salt and pepper \n",
      "Optional: Vegetables to stir in \n",
      " \n",
      "1. Cook your noodles of choice until they are al dente. Drain the noodles and add them back to \n",
      "their pot, keeping the stove on low heat. \n",
      "2. Stir in the cream of chicken or cream of mushroom soup, tuna, and milk. Stir all the \n",
      "ingredients to combine. Add more milk to reach desired consistency.\n"
     ]
    }
   ],
   "source": [
    "# Display top results\n",
    "for i, doc in enumerate(retrieved_docs[:3]): # Display top 3 results\n",
    "    print(f\"Document {i+1}:\\n{doc.page_content[36:1000]}\") # Display content"
   ]
  },
  {
   "cell_type": "code",
   "execution_count": 10,
   "metadata": {},
   "outputs": [],
   "source": [
    "def _get_document_prompt(docs):\n",
    "    prompt = \"\\n\"\n",
    "    for doc in docs:\n",
    "        prompt += \"\\nContent:\\n\"\n",
    "        prompt += doc.page_content + \"\\n\\n\"\n",
    "    return prompt"
   ]
  },
  {
   "cell_type": "code",
   "execution_count": 11,
   "metadata": {},
   "outputs": [],
   "source": [
    "# Generate a formatted context from the retrieved documents\n",
    "formatted_context = _get_document_prompt(retrieved_docs)"
   ]
  },
  {
   "cell_type": "code",
   "execution_count": 12,
   "metadata": {},
   "outputs": [
    {
     "name": "stdout",
     "output_type": "stream",
     "text": [
      "Prompt constructed.\n"
     ]
    }
   ],
   "source": [
    "prompt = f\"\"\"\n",
    "## SYSTEM ROLE\n",
    "You are a helpful and kind chatbot designed to assist with questions related with cooking.\n",
    "Your answers must be based exclusively on provided content from books provided. \n",
    "\n",
    "## USER QUESTION\n",
    "The user has asked: \n",
    "\"{user_question}\"\n",
    "\n",
    "## CONTEXT\n",
    "Here is the relevant content from the technical books:  \n",
    "'''\n",
    "{formatted_context}\n",
    "'''\n",
    "\n",
    "## GUIDELINES\n",
    "1. **Accuracy**:  \n",
    "   - Only use the content in the `CONTEXT` section to answer.  \n",
    "   - If you don't know the answer, just say: Sorry, I cannot help you with that.\n",
    "\n",
    "2. **Transparency**:  \n",
    "   - Reference the book's name and page numbers when providing information.  \n",
    "   - Do not speculate or provide opinions.  \n",
    "\n",
    "3. **Clarity**:  \n",
    "   - Use simple and concise language.  \n",
    "   - Format your response in Markdown for readability.  \n",
    "\n",
    "## TASK\n",
    "1. Answer the user's question **directly** if possible.  \n",
    "2. When explaining a recipe, use bullet points for every ingredient and add the steps\n",
    "3. When you don't know the answer don't respond with a title format and don't add the source\n",
    "4. Provide the response in the following format:\n",
    "\n",
    "## RESPONSE FORMAT\n",
    "\n",
    "## [Brief Title of the Answer]\n",
    "[Answer in simple, ordered, clear text.]\n",
    "\n",
    "**Source**:  \n",
    "• [Book Title], Page(s): [...]\n",
    "\n",
    "\"\"\"\n",
    "print(\"Prompt constructed.\")"
   ]
  },
  {
   "cell_type": "code",
   "execution_count": 13,
   "metadata": {},
   "outputs": [],
   "source": [
    "# Set up GPT client and parameters\n",
    "client = openai.OpenAI()\n",
    "model_params = {\n",
    "    'model': 'gpt-4o',\n",
    "    'temperature': 0.7,  # Increase creativity\n",
    "    'max_tokens': 4000,  # Allow for longer responses\n",
    "    'top_p': 0.9,        # Use nucleus sampling\n",
    "    'frequency_penalty': 0.5,  # Reduce repetition\n",
    "    'presence_penalty': 0.6    # Encourage new topics\n",
    "}"
   ]
  },
  {
   "cell_type": "code",
   "execution_count": 14,
   "metadata": {},
   "outputs": [],
   "source": [
    "messages = [{'role': 'user', 'content': prompt}]\n",
    "completion = client.chat.completions.create(messages=messages, **model_params, timeout=120)"
   ]
  },
  {
   "cell_type": "code",
   "execution_count": 15,
   "metadata": {},
   "outputs": [
    {
     "name": "stdout",
     "output_type": "stream",
     "text": [
      "## Quick Lunch Recipe: Nut Butter and Banana Open Sandwich\n",
      "\n",
      "Here's a simple and quick recipe for a delicious nut butter and banana open sandwich:\n",
      "\n",
      "### Ingredients:\n",
      "- 1 large banana\n",
      "- 2 tablespoons of almond butter or peanut butter\n",
      "- 1 tablespoon honey or maple syrup\n",
      "- 1 tablespoon tahini (optional)\n",
      "- Toppings of your choice: walnuts, raisins, almond flakes, sesame seeds, chia seeds\n",
      "\n",
      "### Instructions:\n",
      "1. Slice the banana lengthwise.\n",
      "2. Mix the nut butter with tahini and sweetener of your choice.\n",
      "3. Layer the mixture on the banana slices.\n",
      "4. Add your desired toppings.\n",
      "\n",
      "This is an easy lunch option and can also serve as a great afternoon snack or pre/post-workout snack.\n",
      "\n",
      "**Source**:  \n",
      "• [Book Title], Page(s): 23\n"
     ]
    }
   ],
   "source": [
    "answer = completion.choices[0].message.content\n",
    "print(answer)"
   ]
  }
 ],
 "metadata": {
  "kernelspec": {
   "display_name": "chatbot",
   "language": "python",
   "name": "python3"
  },
  "language_info": {
   "codemirror_mode": {
    "name": "ipython",
    "version": 3
   },
   "file_extension": ".py",
   "mimetype": "text/x-python",
   "name": "python",
   "nbconvert_exporter": "python",
   "pygments_lexer": "ipython3",
   "version": "3.9.21"
  }
 },
 "nbformat": 4,
 "nbformat_minor": 2
}
